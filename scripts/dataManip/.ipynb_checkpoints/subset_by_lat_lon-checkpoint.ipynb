{
 "cells": [
  {
   "cell_type": "code",
   "execution_count": 74,
   "metadata": {
    "collapsed": true
   },
   "outputs": [],
   "source": [
    "import pandas as pd\n",
    "import matplotlib.pyplot as plt\n",
    "import os\n",
    "import shutil\n",
    "%matplotlib inline"
   ]
  },
  {
   "cell_type": "code",
   "execution_count": 81,
   "metadata": {
    "collapsed": true
   },
   "outputs": [],
   "source": [
    "file_path = \"/home/myazdani/Documents/twitter_projects/processedData/features/colorFeatures/US_HSV_modes_top60_cities.csv\"\n",
    "write_path = \"/home/myazdani/Documents/twitter_projects/image_subsets/UC_schools\"\n",
    "cols_to_save = [\"filename\", \"hour\", \"H.mode\", \"image.path\"]\n",
    "image_path_col = \"image.path\"\n",
    "width = .01\n",
    "gps_sites = {}\n",
    "gps_sites[\"UCSD\"] = (32.881, -117.238)\n",
    "gps_sites[\"UCB\"] = (37.87, -122.259)\n",
    "gps_sites[\"UCSB\"] = (34.41254, -119.84813)\n",
    "gps_sites[\"UCLA\"] = (34.072222, -118.444097)\n",
    "gps_sites[\"UCR\"] = (33.975556, -117.331111)\n",
    "gps_sites[\"UCM\"] = (37.366, -120.4235)\n",
    "gps_sites[\"UCD\"] = (38.54, -121.75)\n",
    "gps_sites[\"UCI\"] = (33.64535, -117.842642)\n"
   ]
  },
  {
   "cell_type": "code",
   "execution_count": 76,
   "metadata": {
    "collapsed": false
   },
   "outputs": [],
   "source": [
    "df = pd.read_csv(file_path)"
   ]
  },
  {
   "cell_type": "code",
   "execution_count": 80,
   "metadata": {
    "collapsed": true
   },
   "outputs": [],
   "source": [
    "def copyFromListToPath(src_paths, dest_path):\n",
    "  for i in range(len(src_paths)): shutil.copy2(src_paths[i], dest_path)"
   ]
  },
  {
   "cell_type": "code",
   "execution_count": 79,
   "metadata": {
    "collapsed": false
   },
   "outputs": [],
   "source": [
    "for key in gps_sites.keys():\n",
    "    lat, lon = gps_sites[key][0], gps_sites[key][1]\n",
    "    sub_df = df[(df[\"lat\"] >  lat - width) & (df[\"lat\"] < lat + width) & (df[\"lon\"] < lon + width) & (df[\"lon\"] > lon - width) ]\n",
    "    dir_path = write_path + \"/\" + key + \"/\"\n",
    "    if not os.path.exists(dir_path): os.makedirs(dir_path)\n",
    "    sub_df.loc[:, cols_to_save].to_csv(dir_path + key + \".csv\", index = False)\n",
    "    image_path = dir_path + \"images/\"\n",
    "    if not os.path.exists(image_path): os.makedirs(image_path)\n",
    "    copyFromListToPath(list(sub_df[image_path_col]), image_path)\n",
    "    ##\n",
    "    "
   ]
  }
 ],
 "metadata": {
  "kernelspec": {
   "display_name": "Python 2",
   "language": "python",
   "name": "python2"
  },
  "language_info": {
   "codemirror_mode": {
    "name": "ipython",
    "version": 2
   },
   "file_extension": ".py",
   "mimetype": "text/x-python",
   "name": "python",
   "nbconvert_exporter": "python",
   "pygments_lexer": "ipython2",
   "version": "2.7.9"
  }
 },
 "nbformat": 4,
 "nbformat_minor": 0
}
